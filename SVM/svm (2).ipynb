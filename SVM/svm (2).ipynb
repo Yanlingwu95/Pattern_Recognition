{
 "cells": [
  {
   "cell_type": "code",
   "execution_count": 114,
   "metadata": {},
   "outputs": [
    {
     "name": "stdout",
     "output_type": "stream",
     "text": [
      "<class 'pandas.core.frame.DataFrame'>\n"
     ]
    }
   ],
   "source": [
    "import pandas as pd\n",
    "import numpy as np\n",
    "import matplotlib.pyplot as plt\n",
    "from sklearn.model_selection import train_test_split\n",
    "from sklearn.metrics import accuracy_score\n",
    "data = pd.read_csv('./data_yang.csv', header=None)\n",
    "data.columns = ['1', '2', '3', 'label']\n",
    "pre_X = data.iloc[-1:,:]\n",
    "X = data.iloc[:, :-1]\n",
    "Y = data.iloc[:, -1:]\n",
    "Y = Y.replace('Yes', 1)\n",
    "Y = Y.replace('No', 0)\n",
    "X_trn, X_tst, Y_trn, Y_tst = train_test_split(X, Y, test_size=0.3, random_state=42)\n",
    "print(type(X))"
   ]
  },
  {
   "cell_type": "code",
   "execution_count": 121,
   "metadata": {},
   "outputs": [
    {
     "name": "stdout",
     "output_type": "stream",
     "text": [
      "[0.4, 1.0, 0.6, 1.0, 0.6]\n",
      "The result predicted by poly with degree = 2 is 1\n",
      "The result predicted by Gaussian is 0\n"
     ]
    },
    {
     "name": "stderr",
     "output_type": "stream",
     "text": [
      "D:\\Softwares\\Anaconda3\\envs\\tensorflow\\lib\\site-packages\\sklearn\\utils\\validation.py:752: DataConversionWarning: A column-vector y was passed when a 1d array was expected. Please change the shape of y to (n_samples, ), for example using ravel().\n",
      "  y = column_or_1d(y, warn=True)\n",
      "D:\\Softwares\\Anaconda3\\envs\\tensorflow\\lib\\site-packages\\sklearn\\utils\\validation.py:752: DataConversionWarning: A column-vector y was passed when a 1d array was expected. Please change the shape of y to (n_samples, ), for example using ravel().\n",
      "  y = column_or_1d(y, warn=True)\n",
      "D:\\Softwares\\Anaconda3\\envs\\tensorflow\\lib\\site-packages\\sklearn\\utils\\validation.py:752: DataConversionWarning: A column-vector y was passed when a 1d array was expected. Please change the shape of y to (n_samples, ), for example using ravel().\n",
      "  y = column_or_1d(y, warn=True)\n",
      "D:\\Softwares\\Anaconda3\\envs\\tensorflow\\lib\\site-packages\\sklearn\\utils\\validation.py:752: DataConversionWarning: A column-vector y was passed when a 1d array was expected. Please change the shape of y to (n_samples, ), for example using ravel().\n",
      "  y = column_or_1d(y, warn=True)\n",
      "D:\\Softwares\\Anaconda3\\envs\\tensorflow\\lib\\site-packages\\sklearn\\utils\\validation.py:752: DataConversionWarning: A column-vector y was passed when a 1d array was expected. Please change the shape of y to (n_samples, ), for example using ravel().\n",
      "  y = column_or_1d(y, warn=True)\n",
      "D:\\Softwares\\Anaconda3\\envs\\tensorflow\\lib\\site-packages\\sklearn\\utils\\validation.py:752: DataConversionWarning: A column-vector y was passed when a 1d array was expected. Please change the shape of y to (n_samples, ), for example using ravel().\n",
      "  y = column_or_1d(y, warn=True)\n",
      "D:\\Softwares\\Anaconda3\\envs\\tensorflow\\lib\\site-packages\\sklearn\\utils\\validation.py:752: DataConversionWarning: A column-vector y was passed when a 1d array was expected. Please change the shape of y to (n_samples, ), for example using ravel().\n",
      "  y = column_or_1d(y, warn=True)\n"
     ]
    }
   ],
   "source": [
    "from sklearn.svm import SVC\n",
    "D = [1, 2, 3, 4, 5]\n",
    "accuracy_tst = []\n",
    "accuracy_trn = []\n",
    "for i in range(5):\n",
    "    d = D[i]\n",
    "    clf = SVC(kernel='poly',degree=d, gamma='auto').fit(X_trn, Y_trn) #rbf\n",
    "    y_tst_pre = clf.predict(X_tst)\n",
    "    accuracy_tst.append(accuracy_score(y_tst_pre, Y_tst))\n",
    "#     y_trn_pre = clf.predict(X_trn)\n",
    "#     accuracy_trn.append(accuracy_score(y_trn_pre, Y_trn))\n",
    "print(accuracy_tst)\n",
    "\n",
    "###\n",
    "X_pre = [[1.5, 1.5, 1.5]]\n",
    "X_pre = pd.DataFrame(X_pre)\n",
    "clf = SVC(kernel='poly',degree=2, gamma='auto').fit(X_trn, Y_trn)\n",
    "y_pre = clf.predict(X_pre)\n",
    "print(\"The result predicted by poly with degree = 2 is {}\".format(y_pre[0]))\n",
    "\n",
    "X_pre = [[1.5, 1.5, 1.5]]\n",
    "X_pre = pd.DataFrame(X_pre)\n",
    "clf = SVC(kernel='rbf', gamma='auto').fit(X_trn, Y_trn)\n",
    "y_pre = clf.predict(X_pre)\n",
    "print(\"The result predicted by Gaussian is {}\".format(y_pre[0]))"
   ]
  },
  {
   "cell_type": "code",
   "execution_count": null,
   "metadata": {},
   "outputs": [],
   "source": []
  }
 ],
 "metadata": {
  "kernelspec": {
   "display_name": "tensorflow",
   "language": "python",
   "name": "tensorflow"
  },
  "language_info": {
   "codemirror_mode": {
    "name": "ipython",
    "version": 3
   },
   "file_extension": ".py",
   "mimetype": "text/x-python",
   "name": "python",
   "nbconvert_exporter": "python",
   "pygments_lexer": "ipython3",
   "version": "3.6.6"
  }
 },
 "nbformat": 4,
 "nbformat_minor": 2
}
