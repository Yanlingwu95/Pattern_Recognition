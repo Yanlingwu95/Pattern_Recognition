{
 "cells": [
  {
   "cell_type": "code",
   "execution_count": 2,
   "metadata": {},
   "outputs": [
    {
     "name": "stdout",
     "output_type": "stream",
     "text": [
      "0.5004024235381879 1.5219280948873621 0.3287950496604918\n"
     ]
    }
   ],
   "source": [
    "from info_gain import info_gain\n",
    "\n",
    "# Example of color to indicate whether something is fruit or vegatable\n",
    "produce = ['apple', 'apple', 'apple', 'strawberry', 'eggplant']\n",
    "fruit   = [ True  ,  True  ,  True  ,  True       ,  False    ]\n",
    "colour  = ['green', 'green', 'red'  , 'red'       , 'purple'  ]\n",
    "\n",
    "ig  = info_gain.info_gain(fruit, colour)\n",
    "iv  = info_gain.intrinsic_value(fruit, colour)\n",
    "igr = info_gain.info_gain_ratio(fruit, colour)\n",
    "\n",
    "print(ig, iv, igr)\n"
   ]
  },
  {
   "cell_type": "code",
   "execution_count": null,
   "metadata": {},
   "outputs": [],
   "source": []
  }
 ],
 "metadata": {
  "kernelspec": {
   "display_name": "tensorflow",
   "language": "python",
   "name": "tensorflow"
  }
 },
 "nbformat": 4,
 "nbformat_minor": 2
}
